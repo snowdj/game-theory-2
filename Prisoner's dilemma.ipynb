{
 "cells": [
  {
   "cell_type": "code",
   "execution_count": null,
   "metadata": {
    "collapsed": true
   },
   "outputs": [],
   "source": [
    "def play(player1, player2):\n",
    "    while player1.value > 0 and player2.value > 0:\n",
    "        pass\n",
    "        #player1.play(player2)"
   ]
  },
  {
   "cell_type": "code",
   "execution_count": 94,
   "metadata": {
    "collapsed": true
   },
   "outputs": [],
   "source": [
    "class Agent():\n",
    "    def __init__(self, val=10):\n",
    "        self.val = val\n",
    "        # TODO: add point values\n",
    "    \n",
    "    @property\n",
    "    def value(self):\n",
    "        return self.val\n",
    "    \n",
    "    def play(self, other):\n",
    "        self_action = self.action()\n",
    "        other_action = other.action()\n",
    "        if self_action == 'cooperate' and other_action == 'cooperate':\n",
    "            self.val += 1\n",
    "            other.val += 1\n",
    "        elif self_action == 'cheat' and other_action == 'cooperate':\n",
    "            self.val += 3\n",
    "            other.val -= 1\n",
    "        elif self_action == 'cooperate' and other_action == 'cheat':\n",
    "            self.val -= 1\n",
    "            other.val += 3\n",
    "        elif self_action == 'cheat' and other_action == 'cheat':\n",
    "            self.val -= 2\n",
    "            other.val -= 2"
   ]
  },
  {
   "cell_type": "code",
   "execution_count": 95,
   "metadata": {
    "collapsed": false
   },
   "outputs": [],
   "source": [
    "class Cooperator(Agent):\n",
    "    def __init__(self):\n",
    "        super().__init__()\n",
    "        \n",
    "    def action(self):\n",
    "        return 'cooperate'\n",
    "    \n",
    "class Cheater(Agent):\n",
    "    def __init__(self):\n",
    "        super().__init__()\n",
    "        \n",
    "    def action(self):\n",
    "        return 'cheat'"
   ]
  },
  {
   "cell_type": "code",
   "execution_count": 96,
   "metadata": {
    "collapsed": false
   },
   "outputs": [],
   "source": [
    "g = Cooperator()\n",
    "k = Cooperator()\n",
    "l = Cheater()"
   ]
  },
  {
   "cell_type": "code",
   "execution_count": 97,
   "metadata": {
    "collapsed": false
   },
   "outputs": [
    {
     "data": {
      "text/plain": [
       "(13, 13)"
      ]
     },
     "execution_count": 97,
     "metadata": {},
     "output_type": "execute_result"
    }
   ],
   "source": [
    "for i in range(3):\n",
    "    g.play(k)\n",
    "g.value, k.value"
   ]
  },
  {
   "cell_type": "code",
   "execution_count": 98,
   "metadata": {
    "collapsed": false
   },
   "outputs": [
    {
     "data": {
      "text/plain": [
       "(7, 19)"
      ]
     },
     "execution_count": 98,
     "metadata": {},
     "output_type": "execute_result"
    }
   ],
   "source": [
    "g = Cooperator()\n",
    "l = Cheater()\n",
    "for i in range(3):\n",
    "    g.play(l)\n",
    "g.value, l.value"
   ]
  },
  {
   "cell_type": "code",
   "execution_count": 99,
   "metadata": {
    "collapsed": false
   },
   "outputs": [
    {
     "data": {
      "text/plain": [
       "(7, 19)"
      ]
     },
     "execution_count": 99,
     "metadata": {},
     "output_type": "execute_result"
    }
   ],
   "source": [
    "g = Cooperator()\n",
    "l = Cheater()\n",
    "for i in range(3):\n",
    "    l.play(g)\n",
    "g.value, l.value"
   ]
  },
  {
   "cell_type": "code",
   "execution_count": null,
   "metadata": {
    "collapsed": true
   },
   "outputs": [],
   "source": []
  }
 ],
 "metadata": {
  "kernelspec": {
   "display_name": "Python 3",
   "language": "python",
   "name": "python3"
  },
  "language_info": {
   "codemirror_mode": {
    "name": "ipython",
    "version": 3
   },
   "file_extension": ".py",
   "mimetype": "text/x-python",
   "name": "python",
   "nbconvert_exporter": "python",
   "pygments_lexer": "ipython3",
   "version": "3.6.0"
  }
 },
 "nbformat": 4,
 "nbformat_minor": 2
}
