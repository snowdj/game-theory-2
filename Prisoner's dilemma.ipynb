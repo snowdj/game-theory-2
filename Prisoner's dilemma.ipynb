{
 "cells": [
  {
   "cell_type": "code",
   "execution_count": null,
   "metadata": {
    "collapsed": true
   },
   "outputs": [],
   "source": [
    "def play(player1, player2):\n",
    "    while player1.value > 0 and player2.value > 0:\n",
    "        pass\n",
    "        #player1.play(player2)"
   ]
  },
  {
   "cell_type": "code",
   "execution_count": 142,
   "metadata": {
    "collapsed": true
   },
   "outputs": [],
   "source": [
    "from random import choice\n",
    "class Agent():\n",
    "    def __init__(self, val=10):\n",
    "        self.val = val\n",
    "        self.rounds = 0\n",
    "        self.history = []\n",
    "        # TODO: add point values\n",
    "    \n",
    "    @property\n",
    "    def value(self):\n",
    "        return self.val\n",
    "    @property\n",
    "    def rounds_played(self):\n",
    "        return self.rounds\n",
    "    @property\n",
    "    def view_history(self):\n",
    "        return self.history\n",
    "    \n",
    "    def play(self, other):\n",
    "        self.rounds += 1\n",
    "        other.rounds += 1\n",
    "        self_action = self.action()\n",
    "        other_action = other.action()\n",
    "        if self_action == 'cooperate' and other_action == 'cooperate':\n",
    "            self.val += 1\n",
    "            other.val += 1\n",
    "        elif self_action == 'cheat' and other_action == 'cooperate':\n",
    "            self.val += 3\n",
    "            other.val -= 1\n",
    "        elif self_action == 'cooperate' and other_action == 'cheat':\n",
    "            self.val -= 1\n",
    "            other.val += 3\n",
    "        elif self_action == 'cheat' and other_action == 'cheat':\n",
    "            self.val -= 2\n",
    "            other.val -= 2"
   ]
  },
  {
   "cell_type": "code",
   "execution_count": 147,
   "metadata": {
    "collapsed": false
   },
   "outputs": [],
   "source": [
    "class Cooperator(Agent):\n",
    "    def __init__(self):\n",
    "        super().__init__()\n",
    "        \n",
    "    def action(self):\n",
    "        act = 'cooperate'\n",
    "        self.history.append(act)\n",
    "        return act\n",
    "    \n",
    "class Cheater(Agent):\n",
    "    def __init__(self):\n",
    "        super().__init__()\n",
    "        \n",
    "    def action(self):\n",
    "        act = 'cheat'\n",
    "        self.history.append(act)\n",
    "        return act\n",
    "    \n",
    "class Random(Agent):\n",
    "    def __init__(self):\n",
    "        super().__init__()\n",
    "        \n",
    "    def action(self):\n",
    "        act = choice(['cheat', 'cooperate'])\n",
    "        self.history.append(act)\n",
    "        return act"
   ]
  },
  {
   "cell_type": "code",
   "execution_count": 148,
   "metadata": {
    "collapsed": false
   },
   "outputs": [],
   "source": [
    "g = Cooperator()\n",
    "k = Cooperator()\n",
    "l = Cheater()"
   ]
  },
  {
   "cell_type": "code",
   "execution_count": 149,
   "metadata": {
    "collapsed": false
   },
   "outputs": [
    {
     "data": {
      "text/plain": [
       "(13, 13)"
      ]
     },
     "execution_count": 149,
     "metadata": {},
     "output_type": "execute_result"
    }
   ],
   "source": [
    "for i in range(3):\n",
    "    g.play(k)\n",
    "g.value, k.value"
   ]
  },
  {
   "cell_type": "code",
   "execution_count": 150,
   "metadata": {
    "collapsed": false
   },
   "outputs": [
    {
     "data": {
      "text/plain": [
       "['cooperate', 'cooperate', 'cooperate']"
      ]
     },
     "execution_count": 150,
     "metadata": {},
     "output_type": "execute_result"
    }
   ],
   "source": [
    "g.view_history"
   ]
  },
  {
   "cell_type": "code",
   "execution_count": 151,
   "metadata": {
    "collapsed": false
   },
   "outputs": [
    {
     "data": {
      "text/plain": [
       "(7, 19)"
      ]
     },
     "execution_count": 151,
     "metadata": {},
     "output_type": "execute_result"
    }
   ],
   "source": [
    "g = Cooperator()\n",
    "l = Cheater()\n",
    "for i in range(3):\n",
    "    g.play(l)\n",
    "g.value, l.value"
   ]
  },
  {
   "cell_type": "code",
   "execution_count": 152,
   "metadata": {
    "collapsed": false
   },
   "outputs": [
    {
     "data": {
      "text/plain": [
       "(7, 19)"
      ]
     },
     "execution_count": 152,
     "metadata": {},
     "output_type": "execute_result"
    }
   ],
   "source": [
    "g = Cooperator()\n",
    "l = Cheater()\n",
    "for i in range(3):\n",
    "    l.play(g)\n",
    "g.value, l.value"
   ]
  },
  {
   "cell_type": "code",
   "execution_count": 154,
   "metadata": {
    "collapsed": false
   },
   "outputs": [
    {
     "data": {
      "text/plain": [
       "(11, 15, ['cooperate', 'cooperate', 'cheat'])"
      ]
     },
     "execution_count": 154,
     "metadata": {},
     "output_type": "execute_result"
    }
   ],
   "source": [
    "g = Cooperator()\n",
    "l = Random()\n",
    "for i in range(3):\n",
    "    l.play(g)\n",
    "g.value, l.value, l.history"
   ]
  },
  {
   "cell_type": "code",
   "execution_count": null,
   "metadata": {
    "collapsed": true
   },
   "outputs": [],
   "source": []
  }
 ],
 "metadata": {
  "kernelspec": {
   "display_name": "Python 3",
   "language": "python",
   "name": "python3"
  },
  "language_info": {
   "codemirror_mode": {
    "name": "ipython",
    "version": 3
   },
   "file_extension": ".py",
   "mimetype": "text/x-python",
   "name": "python",
   "nbconvert_exporter": "python",
   "pygments_lexer": "ipython3",
   "version": "3.6.0"
  }
 },
 "nbformat": 4,
 "nbformat_minor": 2
}
