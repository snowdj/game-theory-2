{
 "cells": [
  {
   "cell_type": "code",
   "execution_count": null,
   "metadata": {
    "collapsed": true
   },
   "outputs": [],
   "source": [
    "def play(player1, player2):\n",
    "    while player1.value > 0 and player2.value > 0:\n",
    "        pass\n",
    "        #player1.play(player2)"
   ]
  },
  {
   "cell_type": "code",
   "execution_count": 74,
   "metadata": {
    "collapsed": true
   },
   "outputs": [],
   "source": [
    "from random import choice\n",
    "\n",
    "class Agent():\n",
    "    both_cooperate = 1\n",
    "    both_cheat = -1\n",
    "    a_cheats = (1, -1)\n",
    "    b_cheats = (-1, 1)\n",
    "    num_agents = 0\n",
    "    \n",
    "    def __init__(self, val=10):\n",
    "        self.val = val\n",
    "        self.rounds = 0\n",
    "        self.history = []\n",
    "        Agent.num_agents += 1\n",
    "        self.agent_id = Agent.num_agents\n",
    "        self.name = 'Agent'\n",
    "    \n",
    "    @property\n",
    "    def value(self):\n",
    "        return self.val\n",
    "    @property\n",
    "    def rounds_played(self):\n",
    "        return self.rounds\n",
    "    @property\n",
    "    def view_history(self):\n",
    "        return self.history\n",
    "    \n",
    "    @classmethod\n",
    "    def set_cooperate_amount(cls, amount):\n",
    "        cls.both_cooperate = amount\n",
    "    @classmethod\n",
    "    def set_both_cheat_amount(cls, amount):\n",
    "        cls.both_cheat = amount\n",
    "    @classmethod\n",
    "    def set_a_cheat_amount(cls, amount):\n",
    "        amount = sorted(amount)\n",
    "        cls.a_cheats = (amount[1], amount[0])\n",
    "        cls.b_cheats = (amount[0], amount[1])\n",
    "     \n",
    "    def play(self, other):\n",
    "        self.rounds += 1\n",
    "        other.rounds += 1\n",
    "        self_action = self.action(other)\n",
    "        other_action = other.action(self)\n",
    "        self.history.append({'opponent_id': other.agent_id, 'opponent_name': other.name,\n",
    "                             'opponent_action': other_action, 'action': self_action})\n",
    "        other.history.append({'opponent_id': self.agent_id, 'opponent_name': self.name,\n",
    "                              'opponent_action': self_action, 'action': other_action})\n",
    "        if self_action == 'cooperate' and other_action == 'cooperate':\n",
    "            self.val += Agent.both_cooperate\n",
    "            other.val += Agent.both_cooperate\n",
    "        elif self_action == 'cheat' and other_action == 'cooperate':\n",
    "            self.val += Agent.a_cheats[0]\n",
    "            other.val += Agent.a_cheats[1]\n",
    "        elif self_action == 'cooperate' and other_action == 'cheat':\n",
    "            self.val += Agent.b_cheats[0]\n",
    "            other.val += Agent.b_cheats[1]\n",
    "        elif self_action == 'cheat' and other_action == 'cheat':\n",
    "            self.val += Agent.both_cheat\n",
    "            other.val += Agent.both_cheat"
   ]
  },
  {
   "cell_type": "code",
   "execution_count": 89,
   "metadata": {
    "collapsed": false
   },
   "outputs": [],
   "source": [
    "class Cooperator(Agent):\n",
    "    def __init__(self):\n",
    "        super().__init__()\n",
    "        self.name = 'Cooperator'\n",
    "        \n",
    "    def action(self, opponent):\n",
    "        act = 'cooperate'\n",
    "        return act\n",
    "    \n",
    "class Cheater(Agent):\n",
    "    def __init__(self):\n",
    "        super().__init__()\n",
    "        self.name = 'Cheater'\n",
    "        \n",
    "    def action(self, opponent):\n",
    "        act = 'cheat'\n",
    "        return act\n",
    "    \n",
    "class Random(Agent):\n",
    "    def __init__(self):\n",
    "        super().__init__()\n",
    "        self.name = 'Random'\n",
    "        \n",
    "    def action(self, opponent):\n",
    "        act = choice(['cheat', 'cooperate'])\n",
    "        return act\n",
    "    \n",
    "class Tit_for_tat(Agent):\n",
    "    def __init__(self):\n",
    "        super().__init__()\n",
    "        self.name = 'Tit for tat'\n",
    "        \n",
    "    def action(self, opponent):\n",
    "        # may no longer need try/except block\n",
    "        try:\n",
    "            for i in opponent.history[::-1]:\n",
    "                if i['opponent_id'] == self.agent_id:\n",
    "                    if i['action'] == 'cheat':\n",
    "                        return 'cheat'\n",
    "            return 'cooperate'\n",
    "        except:\n",
    "            print('error, need to keep this try/except block')\n",
    "            return 'cooperate'\n",
    "\n",
    "class Suspicious_tit_for_tat(Agent):\n",
    "    def __init__(self):\n",
    "        super().__init__()\n",
    "        self.name = 'Suspicious tit for tat'\n",
    "        \n",
    "    def action(self, opponent):\n",
    "        faced_opponent = False\n",
    "        for i in opponent.history[::-1]:\n",
    "                if i['opponent_id'] == self.agent_id:\n",
    "                    faced_opponent = True\n",
    "                    break\n",
    "        if faced_opponent == False:\n",
    "            return 'cheat'\n",
    "        # may no longer need try/except block\n",
    "        try:\n",
    "            for i in opponent.history[::-1]:\n",
    "                if i['opponent_id'] == self.agent_id:\n",
    "                    if i['action'] == 'cheat':\n",
    "                        return 'cheat'\n",
    "            return 'cooperate'\n",
    "        except:\n",
    "            print('error, need to keep this try/except block')\n",
    "            return 'cooperate'"
   ]
  },
  {
   "cell_type": "code",
   "execution_count": 76,
   "metadata": {
    "collapsed": false
   },
   "outputs": [],
   "source": [
    "g = Cooperator()\n",
    "k = Cooperator()\n",
    "l = Cheater()"
   ]
  },
  {
   "cell_type": "code",
   "execution_count": 77,
   "metadata": {
    "collapsed": false
   },
   "outputs": [
    {
     "data": {
      "text/plain": [
       "(13, 13)"
      ]
     },
     "execution_count": 77,
     "metadata": {},
     "output_type": "execute_result"
    }
   ],
   "source": [
    "for i in range(3):\n",
    "    g.play(k)\n",
    "g.value, k.value"
   ]
  },
  {
   "cell_type": "code",
   "execution_count": 59,
   "metadata": {
    "collapsed": false
   },
   "outputs": [
    {
     "data": {
      "text/plain": [
       "(7, 13)"
      ]
     },
     "execution_count": 59,
     "metadata": {},
     "output_type": "execute_result"
    }
   ],
   "source": [
    "g = Cooperator()\n",
    "l = Cheater()\n",
    "for i in range(3):\n",
    "    g.play(l)\n",
    "g.value, l.value"
   ]
  },
  {
   "cell_type": "code",
   "execution_count": 60,
   "metadata": {
    "collapsed": false
   },
   "outputs": [
    {
     "name": "stdout",
     "output_type": "stream",
     "text": [
      "cheated\n",
      "cheated\n"
     ]
    },
    {
     "data": {
      "text/plain": [
       "(7,\n",
       " 9,\n",
       " [(6, 'Cheater', 'cheat', 'cooperate'),\n",
       "  (6, 'Cheater', 'cheat', 'cheat'),\n",
       "  (6, 'Cheater', 'cheat', 'cheat')])"
      ]
     },
     "execution_count": 60,
     "metadata": {},
     "output_type": "execute_result"
    }
   ],
   "source": [
    "l = Cheater()\n",
    "m = Tit_for_tat()\n",
    "\n",
    "for i in range(3):\n",
    "    l.play(m)\n",
    "m.value, l.value, m.history"
   ]
  },
  {
   "cell_type": "code",
   "execution_count": 44,
   "metadata": {
    "collapsed": false
   },
   "outputs": [
    {
     "data": {
      "text/plain": [
       "(7, 13)"
      ]
     },
     "execution_count": 44,
     "metadata": {},
     "output_type": "execute_result"
    }
   ],
   "source": [
    "g = Cooperator()\n",
    "l = Cheater()\n",
    "for i in range(3):\n",
    "    l.play(g)\n",
    "g.value, l.value"
   ]
  },
  {
   "cell_type": "code",
   "execution_count": 45,
   "metadata": {
    "collapsed": false
   },
   "outputs": [
    {
     "data": {
      "text/plain": [
       "(9,\n",
       " 13,\n",
       " [(8, 'Cooperator', 'cooperate'),\n",
       "  (8, 'Cooperator', 'cheat'),\n",
       "  (8, 'Cooperator', 'cheat')])"
      ]
     },
     "execution_count": 45,
     "metadata": {},
     "output_type": "execute_result"
    }
   ],
   "source": [
    "g = Cooperator()\n",
    "l = Random()\n",
    "for i in range(3):\n",
    "    l.play(g)\n",
    "g.value, l.value, l.history"
   ]
  },
  {
   "cell_type": "code",
   "execution_count": 90,
   "metadata": {
    "collapsed": true
   },
   "outputs": [],
   "source": [
    "k = Cooperator()\n",
    "l = Cheater()\n",
    "m = Tit_for_tat()\n",
    "n = Suspicious_tit_for_tat()"
   ]
  },
  {
   "cell_type": "code",
   "execution_count": 91,
   "metadata": {
    "collapsed": false
   },
   "outputs": [],
   "source": [
    "for player in [k,l,m,n]:\n",
    "    for player2 in [k,l,m,n]:\n",
    "        if player != player2:\n",
    "            player.play(player2)"
   ]
  },
  {
   "cell_type": "code",
   "execution_count": 92,
   "metadata": {
    "collapsed": false
   },
   "outputs": [
    {
     "data": {
      "text/plain": [
       "[{'action': 'cheat',\n",
       "  'opponent_action': 'cooperate',\n",
       "  'opponent_id': 17,\n",
       "  'opponent_name': 'Cooperator'},\n",
       " {'action': 'cheat',\n",
       "  'opponent_action': 'cheat',\n",
       "  'opponent_id': 18,\n",
       "  'opponent_name': 'Cheater'},\n",
       " {'action': 'cheat',\n",
       "  'opponent_action': 'cooperate',\n",
       "  'opponent_id': 19,\n",
       "  'opponent_name': 'Tit for tat'},\n",
       " {'action': 'cooperate',\n",
       "  'opponent_action': 'cooperate',\n",
       "  'opponent_id': 17,\n",
       "  'opponent_name': 'Cooperator'},\n",
       " {'action': 'cheat',\n",
       "  'opponent_action': 'cheat',\n",
       "  'opponent_id': 18,\n",
       "  'opponent_name': 'Cheater'},\n",
       " {'action': 'cooperate',\n",
       "  'opponent_action': 'cheat',\n",
       "  'opponent_id': 19,\n",
       "  'opponent_name': 'Tit for tat'}]"
      ]
     },
     "execution_count": 92,
     "metadata": {},
     "output_type": "execute_result"
    }
   ],
   "source": [
    "n.history"
   ]
  },
  {
   "cell_type": "code",
   "execution_count": null,
   "metadata": {
    "collapsed": true
   },
   "outputs": [],
   "source": []
  }
 ],
 "metadata": {
  "anaconda-cloud": {},
  "kernelspec": {
   "display_name": "Python [default]",
   "language": "python",
   "name": "python3"
  },
  "language_info": {
   "codemirror_mode": {
    "name": "ipython",
    "version": 3
   },
   "file_extension": ".py",
   "mimetype": "text/x-python",
   "name": "python",
   "nbconvert_exporter": "python",
   "pygments_lexer": "ipython3",
   "version": "3.5.2"
  }
 },
 "nbformat": 4,
 "nbformat_minor": 2
}
